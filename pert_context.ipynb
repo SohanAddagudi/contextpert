{
 "cells": [
  {
   "cell_type": "code",
   "execution_count": 9,
   "id": "1",
   "metadata": {},
   "outputs": [],
   "source": [
    "# code for table 2 (Contextualized post perturbation one hot encoded cell line, one hot perturbation, with/without dose time)\n",
    "\n",
    "import torch\n",
    "import lightning as pl\n",
    "import pandas as pd\n",
    "import numpy as np\n",
    "# from contextualized.easy import ContextualizedCorrelationNetworks\n",
    "from sklearn.decomposition import PCA\n",
    "from sklearn.model_selection import train_test_split\n",
    "from sklearn.preprocessing import StandardScaler\n",
    "\n",
    "from contextualized.regression.lightning_modules import ContextualizedCorrelation\n",
    "from contextualized.data import CorrelationDataModule\n",
    "from lightning import seed_everything, Trainer"
   ]
  },
  {
   "cell_type": "markdown",
   "id": "2",
   "metadata": {},
   "source": [
    "## Configuration and Data Loading"
   ]
  },
  {
   "cell_type": "code",
   "execution_count": 11,
   "id": "3",
   "metadata": {},
   "outputs": [
    {
     "name": "stdout",
     "output_type": "stream",
     "text": [
      "404\n",
      "['A375' 'A375' 'A375' 'A375' 'A375' 'A375' 'A375' 'A375' 'A375' 'A375'\n",
      " 'A375' 'A375' 'A375' 'A375' 'A375' 'A375' 'A375' 'A375' 'A375' 'A375'\n",
      " 'A375' 'A375' 'A375' 'A375' 'A375' 'A375' 'A375' 'A375' 'A375' 'A375'\n",
      " 'A375' 'A375' 'A375' 'A375' 'A375' 'A375' 'A375' 'A375' 'A375' 'A375'\n",
      " 'A375' 'A375' 'A375' 'A375' 'A375' 'A375' 'A375' 'A375' 'A375' 'A375'\n",
      " 'A375' 'A375' 'A375' 'A375' 'A375' 'A375' 'A375' 'A375' 'A375' 'A375'\n",
      " 'A375' 'A375' 'A375' 'A375' 'A375' 'A375' 'A375' 'A375' 'A375' 'A375'\n",
      " 'A375' 'A375' 'A375' 'A375' 'A375' 'A375' 'A375' 'A375' 'A375' 'A375'\n",
      " 'A375' 'A375' 'A375' 'A375' 'A375' 'A375' 'A375' 'A375' 'A375' 'A375'\n",
      " 'A375' 'A375' 'A375' 'A375' 'A375' 'A375' 'A375' 'A375' 'A375' 'A375'\n",
      " 'A375' 'A375' 'A375' 'A375' 'A375' 'A375' 'A375' 'A375' 'A375' 'A375'\n",
      " 'A375' 'A375' 'A375' 'A375' 'A375' 'A375' 'A375' 'A375' 'A375' 'A375'\n",
      " 'A375' 'A375' 'A375' 'A375' 'A375' 'A375' 'A375' 'A375' 'A375' 'A375'\n",
      " 'A375' 'A375' 'A375' 'A375' 'A375' 'A375' 'A375' 'A375' 'A375' 'A375'\n",
      " 'A375' 'A375' 'A375' 'A375' 'A375' 'A375' 'A375' 'A375' 'A375' 'A375'\n",
      " 'A375' 'A375' 'A375' 'A375' 'A375' 'A375' 'A375' 'A375' 'A375' 'A375'\n",
      " 'A375' 'A375' 'A375' 'A375' 'A375' 'A375' 'A375' 'A375' 'A375' 'A375'\n",
      " 'A375' 'A375' 'A375' 'A375' 'A375' 'A375' 'A375' 'A375' 'A375' 'A375'\n",
      " 'A375' 'A375' 'A375' 'A375' 'A375' 'A375' 'A375' 'A375' 'A375' 'A375'\n",
      " 'A375' 'A375' 'A375' 'A375' 'A375' 'A375' 'A375' 'A375' 'A375' 'A375'\n",
      " 'A375' 'A375' 'A375' 'A375' 'A375' 'A375' 'A375' 'A375' 'A375' 'A375'\n",
      " 'A375' 'A375' 'A375' 'A375' 'A375' 'A375' 'A375' 'A375' 'A375' 'A375'\n",
      " 'A375' 'A375' 'A375' 'A375' 'A375' 'A375' 'A375' 'A375' 'A375' 'A375'\n",
      " 'A375' 'A375' 'A375' 'A375' 'A375' 'A375' 'A375' 'A375' 'A375' 'A375'\n",
      " 'A375' 'A375' 'A375' 'A375' 'A375' 'A375' 'A375' 'A375' 'A375' 'A375'\n",
      " 'A375' 'A375' 'A375' 'A375' 'A375' 'A375' 'A375' 'A375' 'A375' 'A375'\n",
      " 'A375' 'A375' 'A375' 'A375' 'A375' 'A375' 'A375' 'A375' 'A375' 'A375'\n",
      " 'A375' 'A375' 'A375' 'A375' 'A375' 'A375' 'A375' 'A375' 'A375' 'A375'\n",
      " 'A375' 'A375' 'A375' 'A375' 'A375' 'A375' 'A375' 'A375' 'A375' 'A375'\n",
      " 'A375' 'A375' 'A375' 'A375' 'A375' 'A375' 'A375' 'A375' 'A375' 'A375'\n",
      " 'A375' 'A375' 'A375' 'A375' 'A375' 'A375' 'A375' 'A375' 'A375' 'A375'\n",
      " 'A375' 'A375' 'A375' 'A375' 'A375' 'A375' 'A375' 'A375' 'A375' 'A375'\n",
      " 'A375' 'A375' 'A375' 'A375' 'A375' 'A375' 'A375' 'A375' 'A375' 'A375'\n",
      " 'A375' 'A375' 'A375' 'A375' 'A375' 'A375' 'A375' 'A375' 'A375' 'A375'\n",
      " 'A375' 'A375' 'A375' 'A375' 'A375' 'A375' 'A375' 'A375' 'A375' 'A375'\n",
      " 'A375' 'A375' 'A375' 'A375' 'A375' 'A375' 'A375' 'A375' 'A375' 'A375'\n",
      " 'A375' 'A375' 'A375' 'A375' 'A375' 'A375' 'A375' 'A375' 'A375' 'A375'\n",
      " 'A375' 'A375' 'A375' 'A375' 'A375' 'A375' 'A375' 'A375' 'A375' 'A375'\n",
      " 'A375' 'A375' 'A375' 'A375' 'A375' 'A375' 'A375' 'A375' 'A375' 'A375'\n",
      " 'A375' 'A375' 'A375' 'A375' 'A375' 'A375' 'A375' 'A375' 'A375' 'A375'\n",
      " 'A375' 'A375' 'A375' 'A375']\n"
     ]
    }
   ],
   "source": [
    "# Load and preprocess the dataset\n",
    "df = pd.read_csv('data/merged_output4_head.csv')\n",
    "\n",
    "# Filter pert_to_fit\n",
    "pert_to_fit_on = ['trt_cp']\n",
    "\n",
    "#False for context being just one hot encoded cell type and perturbation, True for adding dose and time\n",
    "full_context = True\n",
    "\n",
    "\n",
    "mask = df['pert_type'].isin(pert_to_fit_on)\n",
    "df = df[mask]\n",
    "\n",
    "# Condition to drop rows\n",
    "condition = (\n",
    "    (df['distil_cc_q75'] < 0.2) |\n",
    "    (df['distil_cc_q75'] == -666) |\n",
    "    (df['distil_cc_q75'].isna()) |  # Check for NaN\n",
    "    (df['pct_self_rank_q25'] > 5) |\n",
    "    (df['pct_self_rank_q25'] == -666) |\n",
    "    (df['pct_self_rank_q25'].isna())  # Check for NaN\n",
    ")\n",
    "df = df[~condition]\n",
    "\n",
    "pert_dummies = pd.get_dummies(df['pert_id'], drop_first=True)\n",
    "pert_unit_dummies = pd.get_dummies(df['pert_dose_unit'], drop_first=True)\n",
    "\n",
    "# Extract numeric columns as features\n",
    "feature_cols = df.select_dtypes(include=[np.number]).columns.tolist()\n",
    "columns_to_drop = ['pert_dose', 'pert_dose_unit', 'pert_time', 'distil_cc_q75', 'pct_self_rank_q25']\n",
    "feature_cols = [col for col in feature_cols if col not in columns_to_drop]\n",
    "feature_df = df[feature_cols]\n",
    "\n",
    "# Scale features\n",
    "scaler = StandardScaler()\n",
    "scaler.fit(feature_df)\n",
    "feature_df = scaler.transform(feature_df)\n",
    "X = feature_df\n",
    "\n",
    "# Create context matrix and get unique cell IDs\n",
    "cell_ids = df['cell_id'].values\n",
    "unique_cells = np.unique(cell_ids)\n",
    "print(len(cell_ids))\n",
    "print(cell_ids)"
   ]
  },
  {
   "cell_type": "markdown",
   "id": "4",
   "metadata": {},
   "source": [
    "## Handle Missing Data and Create Context Features"
   ]
  },
  {
   "cell_type": "code",
   "execution_count": 12,
   "id": "5",
   "metadata": {},
   "outputs": [
    {
     "name": "stdout",
     "output_type": "stream",
     "text": [
      "    pert_type  pert_time  pert_dose\n",
      "3      trt_cp          6       10.0\n",
      "4      trt_cp          6       10.0\n",
      "5      trt_cp          6       10.0\n",
      "15     trt_cp          6       10.0\n",
      "16     trt_cp          6       10.0\n",
      "..        ...        ...        ...\n",
      "978    trt_cp          6       10.0\n",
      "979    trt_cp          6       10.0\n",
      "983    trt_cp          6       10.0\n",
      "984    trt_cp          6       10.0\n",
      "985    trt_cp          6       10.0\n",
      "\n",
      "[404 rows x 3 columns]\n",
      "     ignore_flag_pert_time  ignore_flag_pert_dose\n",
      "3                        0                      0\n",
      "4                        0                      0\n",
      "5                        0                      0\n",
      "15                       0                      0\n",
      "16                       0                      0\n",
      "..                     ...                    ...\n",
      "978                      0                      0\n",
      "979                      0                      0\n",
      "983                      0                      0\n",
      "984                      0                      0\n",
      "985                      0                      0\n",
      "\n",
      "[404 rows x 2 columns]\n",
      "(404, 135)\n",
      "Empty DataFrame\n",
      "Columns: []\n",
      "Index: [3, 4, 5, 15, 16, 17, 18, 19, 20, 24, 25, 26, 27, 28, 29, 41, 42, 43, 47, 48, 49, 55, 56, 57, 58, 59, 60, 67, 68, 69, 85, 86, 87, 94, 95, 96, 97, 98, 99, 100, 101, 102, 108, 109, 110, 123, 124, 125, 129, 130, 131, 132, 133, 134, 135, 136, 137, 138, 139, 140, 147, 148, 149, 153, 154, 155, 156, 157, 158, 174, 175, 176, 177, 178, 179, 180, 181, 182, 195, 196, 197, 198, 199, 200, 201, 202, 203, 204, 205, 206, 216, 217, 218, 240, 241, 242, 255, 256, 257, 258, ...]\n",
      "\n",
      "[404 rows x 0 columns]\n",
      "how many cell types removed killed:  0\n"
     ]
    }
   ],
   "source": [
    "# Add separate ignore flag columns for 'pert_time' and 'pert_dose'\n",
    "df['ignore_flag_pert_time'] = np.where(df['pert_time'] == -666, 1, 0)\n",
    "df['ignore_flag_pert_dose'] = np.where(df['pert_dose'] == -666, 1, 0)\n",
    "\n",
    "# Replace -666 in 'pert_time' and 'pert_dose' with column mean for those rows\n",
    "for col in ['pert_time', 'pert_dose']:\n",
    "    mean_value = df[df[col] != -666][col].mean()  # Calculate mean excluding -666\n",
    "    df[col] = df[col].replace(-666, mean_value)\n",
    "\n",
    "print(df[['pert_type','pert_time', 'pert_dose']])\n",
    "print(df[['ignore_flag_pert_time', 'ignore_flag_pert_dose']])\n",
    "\n",
    "# Generate perturbation dummies and time/dose values\n",
    "pert_time = df['pert_time'].values\n",
    "pert_dose = df['pert_dose'].values\n",
    "ignore_time = df['ignore_flag_pert_time'].values\n",
    "ignore_dose = df['ignore_flag_pert_dose'].values\n",
    "print(pert_dummies.shape)\n",
    "print(pert_unit_dummies)\n",
    "\n",
    "# Initialize lists to store split data\n",
    "X_train_list = []\n",
    "X_test_list = []\n",
    "C_train_list = []\n",
    "C_test_list = []\n",
    "cell_ids_train_list = []\n",
    "cell_ids_test_list = []\n",
    "\n",
    "only1 = 0\n",
    "# Split data within each context group\n",
    "for cell_id in unique_cells:\n",
    "    # Get indices for current cell type\n",
    "    cell_mask = cell_ids == cell_id\n",
    "    X_cell = X[cell_mask]\n",
    "    cell_ids_cell = cell_ids[cell_mask]\n",
    "    \n",
    "    # Get corresponding perturbation information\n",
    "    pert_dummies_cell = pert_dummies.loc[cell_mask].values\n",
    "    pert_unit_dummies_cell = pert_unit_dummies.loc[cell_mask].values\n",
    "    pert_time_cell = pert_time[cell_mask].reshape(-1, 1)\n",
    "    pert_dose_cell = pert_dose[cell_mask].reshape(-1, 1)\n",
    "    ignore_time_cell = ignore_time[cell_mask].reshape(-1, 1)\n",
    "    ignore_dose_cell = ignore_dose[cell_mask].reshape(-1, 1)\n",
    "    \n",
    "    # Create one-hot encoding for current cell type\n",
    "    C_cell = np.zeros((X_cell.shape[0], len(unique_cells)))\n",
    "    C_cell[:, np.where(unique_cells == cell_id)[0]] = 1\n",
    "    \n",
    "    # Concatenate all context information\n",
    "    if full_context:\n",
    "        C_cell = np.hstack([C_cell, pert_dummies_cell, pert_unit_dummies_cell, pert_time_cell, pert_dose_cell, ignore_time_cell, ignore_dose_cell])\n",
    "    else:\n",
    "        C_cell = np.hstack([C_cell, pert_dummies_cell])\n",
    "\n",
    "    # Split data for current cell type\n",
    "    if X_cell.shape[0] > 0:  \n",
    "        X_train_cell, X_test_cell, C_train_cell, C_test_cell, ids_train_cell, ids_test_cell = train_test_split(\n",
    "            X_cell, C_cell, cell_ids_cell, test_size=0.33, random_state=42\n",
    "        )\n",
    "        \n",
    "        X_train_list.append(X_train_cell)\n",
    "        X_test_list.append(X_test_cell)\n",
    "        C_train_list.append(C_train_cell)\n",
    "        C_test_list.append(C_test_cell)\n",
    "        cell_ids_train_list.append(ids_train_cell)\n",
    "        cell_ids_test_list.append(ids_test_cell)\n",
    "    else:\n",
    "        only1 = only1 + 1\n",
    "print('how many cell types removed killed: ', only1)"
   ]
  },
  {
   "cell_type": "markdown",
   "id": "6",
   "metadata": {},
   "source": [
    "## Combine Data and Apply PCA"
   ]
  },
  {
   "cell_type": "code",
   "execution_count": 13,
   "id": "7",
   "metadata": {},
   "outputs": [
    {
     "name": "stdout",
     "output_type": "stream",
     "text": [
      "(270, 140)\n",
      "(134, 140)\n",
      "[[ 1.  0.  0. ... 10.  0.  0.]\n",
      " [ 1.  0.  0. ... 10.  0.  0.]\n",
      " [ 1.  0.  0. ... 10.  0.  0.]\n",
      " ...\n",
      " [ 1.  0.  0. ... 10.  0.  0.]\n",
      " [ 1.  0.  0. ... 10.  0.  0.]\n",
      " [ 1.  0.  0. ... 10.  0.  0.]]\n"
     ]
    }
   ],
   "source": [
    "# Combine split data\n",
    "# np.set_printoptions(threshold=np.inf)\n",
    "X_train = np.vstack(X_train_list)\n",
    "X_test = np.vstack(X_test_list)\n",
    "C_train = np.vstack(C_train_list)\n",
    "C_test = np.vstack(C_test_list)\n",
    "cell_ids_train = np.concatenate(cell_ids_train_list)\n",
    "cell_ids_test = np.concatenate(cell_ids_test_list)\n",
    "print(C_train.shape)\n",
    "print(C_test.shape)\n",
    "print(C_train)\n",
    "\n",
    "# Apply PCA\n",
    "pca = PCA(n_components=50)\n",
    "pca.fit(X_train)\n",
    "X_train_pca = pca.transform(X_train)\n",
    "X_test_pca = pca.transform(X_test)\n",
    "\n",
    "# Normalize train and test PCA data\n",
    "X_mean = X_train_pca.mean(axis=0)\n",
    "X_std = X_train_pca.std(axis=0)\n",
    "X_train_norm = (X_train_pca - X_mean) / X_std\n",
    "X_test_norm = (X_test_pca - X_mean) / X_std\n",
    "\n",
    "# Set useful variables\n",
    "train_group_ids = cell_ids_train\n",
    "test_group_ids = cell_ids_test\n",
    "X_train = X_train_norm\n",
    "X_test = X_test_norm"
   ]
  },
  {
   "cell_type": "markdown",
   "id": "8",
   "metadata": {},
   "source": [
    "## Fit Population Baseline"
   ]
  },
  {
   "cell_type": "code",
   "execution_count": 14,
   "id": "9",
   "metadata": {},
   "outputs": [
    {
     "name": "stdout",
     "output_type": "stream",
     "text": [
      "Train MSE: 0.9800000000000001\n",
      "Test MSE: 0.3981750757558998\n"
     ]
    }
   ],
   "source": [
    "from contextualized.baselines.networks import CorrelationNetwork\n",
    "pop_model = CorrelationNetwork()\n",
    "pop_model.fit(X_train)\n",
    "print(f\"Train MSE: {pop_model.measure_mses(X_train).mean()}\")\n",
    "print(f\"Test MSE: {pop_model.measure_mses(X_test).mean()}\")"
   ]
  },
  {
   "cell_type": "markdown",
   "id": "10",
   "metadata": {},
   "source": [
    "## Fit Grouped Baseline"
   ]
  },
  {
   "cell_type": "code",
   "execution_count": 15,
   "id": "11",
   "metadata": {},
   "outputs": [
    {
     "name": "stdout",
     "output_type": "stream",
     "text": [
      "Grouped Train MSE: 0.9800000000000001\n",
      "Grouped Test MSE: 0.3981750757558998\n"
     ]
    }
   ],
   "source": [
    "from contextualized.baselines.networks import GroupedNetworks\n",
    "grouped_model = GroupedNetworks(CorrelationNetwork)\n",
    "grouped_model.fit(X_train, train_group_ids)\n",
    "print(f\"Grouped Train MSE: {grouped_model.measure_mses(X_train, train_group_ids).mean()}\")\n",
    "print(f\"Grouped Test MSE: {grouped_model.measure_mses(X_test, test_group_ids).mean()}\")"
   ]
  },
  {
   "cell_type": "markdown",
   "id": "12",
   "metadata": {},
   "source": [
    "## Fit Contextualized Model"
   ]
  },
  {
   "cell_type": "code",
   "execution_count": null,
   "id": "13",
   "metadata": {},
   "outputs": [
    {
     "name": "stderr",
     "output_type": "stream",
     "text": [
      "\u001b[34m\u001b[1mwandb\u001b[0m: \u001b[33mWARNING\u001b[0m If you're specifying your api key in code, ensure this code is not shared publicly.\n",
      "\u001b[34m\u001b[1mwandb\u001b[0m: \u001b[33mWARNING\u001b[0m Consider setting the WANDB_API_KEY environment variable, or running `wandb login` from the command line.\n",
      "\u001b[34m\u001b[1mwandb\u001b[0m: Appending key for api.wandb.ai to your netrc file: /mmfs1/home/jiaqiw18/.netrc\n",
      "\u001b[34m\u001b[1mwandb\u001b[0m: Currently logged in as: \u001b[33mjiaqiw\u001b[0m (\u001b[33mcontextualized\u001b[0m) to \u001b[32mhttps://api.wandb.ai\u001b[0m. Use \u001b[1m`wandb login --relogin`\u001b[0m to force relogin\n",
      "/mmfs1/gscratch/ark/jiaqi/miniconda3/envs/cml/lib/python3.10/site-packages/lightning/fabric/plugins/environments/slurm.py:204: The `srun` command is available on your system but is not used. HINT: If your intention is to run Lightning on SLURM, prepend your python command with `srun` like so: srun python /mmfs1/gscratch/ark/jiaqi/miniconda3/envs/cml/lib/py ...\n",
      "GPU available: True (cuda), used: True\n",
      "TPU available: False, using: 0 TPU cores\n",
      "HPU available: False, using: 0 HPUs\n",
      "You are using a CUDA device ('NVIDIA A100 80GB PCIe') that has Tensor Cores. To properly utilize them, you should set `torch.set_float32_matmul_precision('medium' | 'high')` which will trade-off precision for performance. For more details, read https://pytorch.org/docs/stable/generated/torch.set_float32_matmul_precision.html#torch.set_float32_matmul_precision\n"
     ]
    },
    {
     "data": {
      "text/html": [
       "Tracking run with wandb version 0.21.0"
      ],
      "text/plain": [
       "<IPython.core.display.HTML object>"
      ]
     },
     "metadata": {},
     "output_type": "display_data"
    },
    {
     "data": {
      "text/html": [
       "Run data is saved locally in <code>logs/wandb/run-20250716_001233-35f72jlq</code>"
      ],
      "text/plain": [
       "<IPython.core.display.HTML object>"
      ]
     },
     "metadata": {},
     "output_type": "display_data"
    },
    {
     "data": {
      "text/html": [
       "Syncing run <strong><a href='https://wandb.ai/contextualized/contextpert/runs/35f72jlq' target=\"_blank\">one_hot_context</a></strong> to <a href='https://wandb.ai/contextualized/contextpert' target=\"_blank\">Weights & Biases</a> (<a href='https://wandb.me/developer-guide' target=\"_blank\">docs</a>)<br>"
      ],
      "text/plain": [
       "<IPython.core.display.HTML object>"
      ]
     },
     "metadata": {},
     "output_type": "display_data"
    },
    {
     "data": {
      "text/html": [
       " View project at <a href='https://wandb.ai/contextualized/contextpert' target=\"_blank\">https://wandb.ai/contextualized/contextpert</a>"
      ],
      "text/plain": [
       "<IPython.core.display.HTML object>"
      ]
     },
     "metadata": {},
     "output_type": "display_data"
    },
    {
     "data": {
      "text/html": [
       " View run at <a href='https://wandb.ai/contextualized/contextpert/runs/35f72jlq' target=\"_blank\">https://wandb.ai/contextualized/contextpert/runs/35f72jlq</a>"
      ],
      "text/plain": [
       "<IPython.core.display.HTML object>"
      ]
     },
     "metadata": {},
     "output_type": "display_data"
    },
    {
     "name": "stderr",
     "output_type": "stream",
     "text": [
      "LOCAL_RANK: 0 - CUDA_VISIBLE_DEVICES: [0]\n",
      "\n",
      "  | Name      | Type             | Params | Mode \n",
      "-------------------------------------------------------\n",
      "0 | metamodel | SubtypeMetamodel | 254 K  | train\n",
      "-------------------------------------------------------\n",
      "254 K     Trainable params\n",
      "0         Non-trainable params\n",
      "254 K     Total params\n",
      "1.019     Total estimated model params size (MB)\n",
      "7         Modules in train mode\n",
      "0         Modules in eval mode\n"
     ]
    },
    {
     "name": "stdout",
     "output_type": "stream",
     "text": [
      "                                                                                                                                                                                                   "
     ]
    },
    {
     "name": "stderr",
     "output_type": "stream",
     "text": [
      "/mmfs1/gscratch/ark/jiaqi/miniconda3/envs/cml/lib/python3.10/site-packages/lightning/pytorch/loops/fit_loop.py:310: The number of training batches (9) is smaller than the logging interval Trainer(log_every_n_steps=50). Set a lower value for log_every_n_steps if you want to see logs for the training epoch.\n"
     ]
    },
    {
     "name": "stdout",
     "output_type": "stream",
     "text": [
      "Epoch 0: 100%|███████████████████████████████████████████████████████████████████████████████████████████████████████████████████████████████████████████| 9/9 [00:00<00:00, 69.67it/s, v_num=2jlq]\n",
      "Validation: |                                                                                                                                                                | 0/? [00:00<?, ?it/s]\u001b[A\n",
      "Validation:   0%|                                                                                                                                                            | 0/7 [00:00<?, ?it/s]\u001b[A\n",
      "Validation DataLoader 0:   0%|                                                                                                                                               | 0/7 [00:00<?, ?it/s]\u001b[A\n",
      "Validation DataLoader 0:  14%|███████████████████▏                                                                                                                  | 1/7 [00:00<00:00, 125.03it/s]\u001b[A\n",
      "Validation DataLoader 0:  29%|██████████████████████████████████████▎                                                                                               | 2/7 [00:00<00:00, 147.98it/s]\u001b[A\n",
      "Validation DataLoader 0:  43%|█████████████████████████████████████████████████████████▍                                                                            | 3/7 [00:00<00:00, 157.85it/s]\u001b[A\n",
      "Validation DataLoader 0:  57%|████████████████████████████████████████████████████████████████████████████▌                                                         | 4/7 [00:00<00:00, 163.84it/s]\u001b[A\n",
      "Validation DataLoader 0:  71%|███████████████████████████████████████████████████████████████████████████████████████████████▋                                      | 5/7 [00:00<00:00, 168.35it/s]\u001b[A\n",
      "Validation DataLoader 0:  86%|██████████████████████████████████████████████████████████████████████████████████████████████████████████████████▊                   | 6/7 [00:00<00:00, 171.20it/s]\u001b[A\n",
      "Validation DataLoader 0: 100%|██████████████████████████████████████████████████████████████████████████████████████████████████████████████████████████████████████| 7/7 [00:00<00:00, 173.88it/s]\u001b[A\n",
      "Epoch 1: 100%|██████████████████████████████████████████████████████████████████████████████████████████████████████████████████████████████████████████| 9/9 [00:00<00:00, 148.38it/s, v_num=2jlq]\u001b[A\n",
      "Validation: |                                                                                                                                                                | 0/? [00:00<?, ?it/s]\u001b[A\n",
      "Validation:   0%|                                                                                                                                                            | 0/7 [00:00<?, ?it/s]\u001b[A\n",
      "Validation DataLoader 0:   0%|                                                                                                                                               | 0/7 [00:00<?, ?it/s]\u001b[A\n",
      "Validation DataLoader 0:  14%|███████████████████▏                                                                                                                  | 1/7 [00:00<00:00, 124.14it/s]\u001b[A\n",
      "Validation DataLoader 0:  29%|██████████████████████████████████████▎                                                                                               | 2/7 [00:00<00:00, 150.86it/s]\u001b[A\n",
      "Validation DataLoader 0:  43%|█████████████████████████████████████████████████████████▍                                                                            | 3/7 [00:00<00:00, 161.09it/s]\u001b[A\n",
      "Validation DataLoader 0:  57%|████████████████████████████████████████████████████████████████████████████▌                                                         | 4/7 [00:00<00:00, 168.17it/s]\u001b[A\n",
      "Validation DataLoader 0:  71%|███████████████████████████████████████████████████████████████████████████████████████████████▋                                      | 5/7 [00:00<00:00, 171.81it/s]\u001b[A\n",
      "Validation DataLoader 0:  86%|██████████████████████████████████████████████████████████████████████████████████████████████████████████████████▊                   | 6/7 [00:00<00:00, 175.44it/s]\u001b[A\n",
      "Validation DataLoader 0: 100%|██████████████████████████████████████████████████████████████████████████████████████████████████████████████████████████████████████| 7/7 [00:00<00:00, 178.47it/s]\u001b[A\n",
      "Epoch 2: 100%|██████████████████████████████████████████████████████████████████████████████████████████████████████████████████████████████████████████| 9/9 [00:00<00:00, 147.86it/s, v_num=2jlq]\u001b[A\n",
      "Validation: |                                                                                                                                                                | 0/? [00:00<?, ?it/s]\u001b[A\n",
      "Validation:   0%|                                                                                                                                                            | 0/7 [00:00<?, ?it/s]\u001b[A\n",
      "Validation DataLoader 0:   0%|                                                                                                                                               | 0/7 [00:00<?, ?it/s]\u001b[A\n",
      "Validation DataLoader 0:  14%|███████████████████▏                                                                                                                  | 1/7 [00:00<00:00, 126.02it/s]\u001b[A\n",
      "Validation DataLoader 0:  29%|██████████████████████████████████████▎                                                                                               | 2/7 [00:00<00:00, 150.23it/s]\u001b[A\n",
      "Validation DataLoader 0:  43%|█████████████████████████████████████████████████████████▍                                                                            | 3/7 [00:00<00:00, 161.97it/s]\u001b[A\n",
      "Validation DataLoader 0:  57%|████████████████████████████████████████████████████████████████████████████▌                                                         | 4/7 [00:00<00:00, 167.61it/s]\u001b[A\n",
      "Validation DataLoader 0:  71%|███████████████████████████████████████████████████████████████████████████████████████████████▋                                      | 5/7 [00:00<00:00, 172.10it/s]\u001b[A\n",
      "Validation DataLoader 0:  86%|██████████████████████████████████████████████████████████████████████████████████████████████████████████████████▊                   | 6/7 [00:00<00:00, 174.45it/s]\u001b[A\n",
      "Validation DataLoader 0: 100%|██████████████████████████████████████████████████████████████████████████████████████████████████████████████████████████████████████| 7/7 [00:00<00:00, 177.09it/s]\u001b[A\n",
      "Epoch 3: 100%|██████████████████████████████████████████████████████████████████████████████████████████████████████████████████████████████████████████| 9/9 [00:00<00:00, 146.88it/s, v_num=2jlq]\u001b[A\n",
      "Validation: |                                                                                                                                                                | 0/? [00:00<?, ?it/s]\u001b[A\n",
      "Validation:   0%|                                                                                                                                                            | 0/7 [00:00<?, ?it/s]\u001b[A\n",
      "Validation DataLoader 0:   0%|                                                                                                                                               | 0/7 [00:00<?, ?it/s]\u001b[A\n",
      "Validation DataLoader 0:  14%|███████████████████▏                                                                                                                  | 1/7 [00:00<00:00, 124.10it/s]\u001b[A\n",
      "Validation DataLoader 0:  29%|██████████████████████████████████████▎                                                                                               | 2/7 [00:00<00:00, 146.25it/s]\u001b[A\n",
      "Validation DataLoader 0:  43%|█████████████████████████████████████████████████████████▍                                                                            | 3/7 [00:00<00:00, 157.67it/s]\u001b[A\n",
      "Validation DataLoader 0:  57%|████████████████████████████████████████████████████████████████████████████▌                                                         | 4/7 [00:00<00:00, 162.69it/s]\u001b[A\n",
      "Validation DataLoader 0:  71%|███████████████████████████████████████████████████████████████████████████████████████████████▋                                      | 5/7 [00:00<00:00, 167.58it/s]\u001b[A\n",
      "Validation DataLoader 0:  86%|██████████████████████████████████████████████████████████████████████████████████████████████████████████████████▊                   | 6/7 [00:00<00:00, 170.56it/s]\u001b[A\n",
      "Validation DataLoader 0: 100%|██████████████████████████████████████████████████████████████████████████████████████████████████████████████████████████████████████| 7/7 [00:00<00:00, 173.93it/s]\u001b[A\n",
      "Epoch 4: 100%|██████████████████████████████████████████████████████████████████████████████████████████████████████████████████████████████████████████| 9/9 [00:00<00:00, 149.48it/s, v_num=2jlq]\u001b[A\n",
      "Validation: |                                                                                                                                                                | 0/? [00:00<?, ?it/s]\u001b[A\n",
      "Validation:   0%|                                                                                                                                                            | 0/7 [00:00<?, ?it/s]\u001b[A\n",
      "Validation DataLoader 0:   0%|                                                                                                                                               | 0/7 [00:00<?, ?it/s]\u001b[A\n",
      "Validation DataLoader 0:  14%|███████████████████▏                                                                                                                  | 1/7 [00:00<00:00, 126.75it/s]\u001b[A\n",
      "Validation DataLoader 0:  29%|██████████████████████████████████████▎                                                                                               | 2/7 [00:00<00:00, 153.16it/s]\u001b[A\n",
      "Validation DataLoader 0:  43%|█████████████████████████████████████████████████████████▍                                                                            | 3/7 [00:00<00:00, 164.09it/s]\u001b[A\n",
      "Validation DataLoader 0:  57%|████████████████████████████████████████████████████████████████████████████▌                                                         | 4/7 [00:00<00:00, 170.06it/s]\u001b[A\n",
      "Validation DataLoader 0:  71%|███████████████████████████████████████████████████████████████████████████████████████████████▋                                      | 5/7 [00:00<00:00, 173.47it/s]\u001b[A\n",
      "Validation DataLoader 0:  86%|██████████████████████████████████████████████████████████████████████████████████████████████████████████████████▊                   | 6/7 [00:00<00:00, 175.39it/s]\u001b[A\n",
      "Validation DataLoader 0: 100%|██████████████████████████████████████████████████████████████████████████████████████████████████████████████████████████████████████| 7/7 [00:00<00:00, 152.57it/s]\u001b[A\n",
      "Epoch 5: 100%|██████████████████████████████████████████████████████████████████████████████████████████████████████████████████████████████████████████| 9/9 [00:00<00:00, 149.77it/s, v_num=2jlq]\u001b[A\n",
      "Validation: |                                                                                                                                                                | 0/? [00:00<?, ?it/s]\u001b[A\n",
      "Validation:   0%|                                                                                                                                                            | 0/7 [00:00<?, ?it/s]\u001b[A\n",
      "Validation DataLoader 0:   0%|                                                                                                                                               | 0/7 [00:00<?, ?it/s]\u001b[A\n",
      "Validation DataLoader 0:  14%|███████████████████▏                                                                                                                  | 1/7 [00:00<00:00, 123.50it/s]\u001b[A\n",
      "Validation DataLoader 0:  29%|██████████████████████████████████████▎                                                                                               | 2/7 [00:00<00:00, 147.61it/s]\u001b[A\n",
      "Validation DataLoader 0:  43%|█████████████████████████████████████████████████████████▍                                                                            | 3/7 [00:00<00:00, 158.79it/s]\u001b[A\n",
      "Validation DataLoader 0:  57%|████████████████████████████████████████████████████████████████████████████▌                                                         | 4/7 [00:00<00:00, 165.65it/s]\u001b[A\n",
      "Validation DataLoader 0:  71%|███████████████████████████████████████████████████████████████████████████████████████████████▋                                      | 5/7 [00:00<00:00, 168.78it/s]\u001b[A\n",
      "Validation DataLoader 0:  86%|██████████████████████████████████████████████████████████████████████████████████████████████████████████████████▊                   | 6/7 [00:00<00:00, 171.63it/s]\u001b[A\n",
      "Validation DataLoader 0: 100%|██████████████████████████████████████████████████████████████████████████████████████████████████████████████████████████████████████| 7/7 [00:00<00:00, 174.85it/s]\u001b[A\n",
      "Epoch 6: 100%|██████████████████████████████████████████████████████████████████████████████████████████████████████████████████████████████████████████| 9/9 [00:00<00:00, 150.51it/s, v_num=2jlq]\u001b[A\n",
      "Validation: |                                                                                                                                                                | 0/? [00:00<?, ?it/s]\u001b[A\n",
      "Validation:   0%|                                                                                                                                                            | 0/7 [00:00<?, ?it/s]\u001b[A\n",
      "Validation DataLoader 0:   0%|                                                                                                                                               | 0/7 [00:00<?, ?it/s]\u001b[A\n",
      "Validation DataLoader 0:  14%|███████████████████▏                                                                                                                  | 1/7 [00:00<00:00, 125.98it/s]\u001b[A\n",
      "Validation DataLoader 0:  29%|██████████████████████████████████████▎                                                                                               | 2/7 [00:00<00:00, 150.17it/s]\u001b[A\n",
      "Validation DataLoader 0:  43%|█████████████████████████████████████████████████████████▍                                                                            | 3/7 [00:00<00:00, 160.64it/s]\u001b[A\n",
      "Validation DataLoader 0:  57%|████████████████████████████████████████████████████████████████████████████▌                                                         | 4/7 [00:00<00:00, 166.89it/s]\u001b[A\n",
      "Validation DataLoader 0:  71%|███████████████████████████████████████████████████████████████████████████████████████████████▋                                      | 5/7 [00:00<00:00, 170.16it/s]\u001b[A\n",
      "Validation DataLoader 0:  86%|██████████████████████████████████████████████████████████████████████████████████████████████████████████████████▊                   | 6/7 [00:00<00:00, 173.46it/s]\u001b[A\n",
      "Validation DataLoader 0: 100%|██████████████████████████████████████████████████████████████████████████████████████████████████████████████████████████████████████| 7/7 [00:00<00:00, 176.10it/s]\u001b[A\n",
      "Epoch 7: 100%|██████████████████████████████████████████████████████████████████████████████████████████████████████████████████████████████████████████| 9/9 [00:00<00:00, 147.46it/s, v_num=2jlq]\u001b[A\n",
      "Validation: |                                                                                                                                                                | 0/? [00:00<?, ?it/s]\u001b[A\n",
      "Validation:   0%|                                                                                                                                                            | 0/7 [00:00<?, ?it/s]\u001b[A\n",
      "Validation DataLoader 0:   0%|                                                                                                                                               | 0/7 [00:00<?, ?it/s]\u001b[A\n",
      "Validation DataLoader 0:  14%|███████████████████▏                                                                                                                  | 1/7 [00:00<00:00, 125.75it/s]\u001b[A\n",
      "Validation DataLoader 0:  29%|██████████████████████████████████████▎                                                                                               | 2/7 [00:00<00:00, 149.64it/s]\u001b[A\n",
      "Validation DataLoader 0:  43%|█████████████████████████████████████████████████████████▍                                                                            | 3/7 [00:00<00:00, 159.27it/s]\u001b[A\n",
      "Validation DataLoader 0:  57%|████████████████████████████████████████████████████████████████████████████▌                                                         | 4/7 [00:00<00:00, 165.49it/s]\u001b[A\n",
      "Validation DataLoader 0:  71%|███████████████████████████████████████████████████████████████████████████████████████████████▋                                      | 5/7 [00:00<00:00, 169.65it/s]\u001b[A\n",
      "Validation DataLoader 0:  86%|██████████████████████████████████████████████████████████████████████████████████████████████████████████████████▊                   | 6/7 [00:00<00:00, 172.36it/s]\u001b[A\n",
      "Validation DataLoader 0: 100%|██████████████████████████████████████████████████████████████████████████████████████████████████████████████████████████████████████| 7/7 [00:00<00:00, 176.06it/s]\u001b[A\n",
      "Epoch 8: 100%|██████████████████████████████████████████████████████████████████████████████████████████████████████████████████████████████████████████| 9/9 [00:00<00:00, 156.24it/s, v_num=2jlq]\u001b[A\n",
      "Validation: |                                                                                                                                                                | 0/? [00:00<?, ?it/s]\u001b[A\n",
      "Validation:   0%|                                                                                                                                                            | 0/7 [00:00<?, ?it/s]\u001b[A\n",
      "Validation DataLoader 0:   0%|                                                                                                                                               | 0/7 [00:00<?, ?it/s]\u001b[A\n",
      "Validation DataLoader 0:  14%|███████████████████▏                                                                                                                  | 1/7 [00:00<00:00, 126.77it/s]\u001b[A\n",
      "Validation DataLoader 0:  29%|██████████████████████████████████████▎                                                                                               | 2/7 [00:00<00:00, 150.63it/s]\u001b[A\n",
      "Validation DataLoader 0:  43%|█████████████████████████████████████████████████████████▍                                                                            | 3/7 [00:00<00:00, 161.59it/s]\u001b[A\n",
      "Validation DataLoader 0:  57%|████████████████████████████████████████████████████████████████████████████▌                                                         | 4/7 [00:00<00:00, 167.61it/s]\u001b[A\n",
      "Validation DataLoader 0:  71%|███████████████████████████████████████████████████████████████████████████████████████████████▋                                      | 5/7 [00:00<00:00, 171.37it/s]\u001b[A\n",
      "Validation DataLoader 0:  86%|██████████████████████████████████████████████████████████████████████████████████████████████████████████████████▊                   | 6/7 [00:00<00:00, 174.24it/s]\u001b[A\n",
      "Validation DataLoader 0: 100%|██████████████████████████████████████████████████████████████████████████████████████████████████████████████████████████████████████| 7/7 [00:00<00:00, 176.97it/s]\u001b[A\n",
      "Epoch 9: 100%|██████████████████████████████████████████████████████████████████████████████████████████████████████████████████████████████████████████| 9/9 [00:00<00:00, 147.93it/s, v_num=2jlq]\u001b[A\n",
      "Validation: |                                                                                                                                                                | 0/? [00:00<?, ?it/s]\u001b[A\n",
      "Validation:   0%|                                                                                                                                                            | 0/7 [00:00<?, ?it/s]\u001b[A\n",
      "Validation DataLoader 0:   0%|                                                                                                                                               | 0/7 [00:00<?, ?it/s]\u001b[A\n",
      "Validation DataLoader 0:  14%|███████████████████▏                                                                                                                  | 1/7 [00:00<00:00, 124.17it/s]\u001b[A\n",
      "Validation DataLoader 0:  29%|██████████████████████████████████████▎                                                                                               | 2/7 [00:00<00:00, 148.47it/s]\u001b[A\n",
      "Validation DataLoader 0:  43%|█████████████████████████████████████████████████████████▍                                                                            | 3/7 [00:00<00:00, 159.45it/s]\u001b[A\n",
      "Validation DataLoader 0:  57%|████████████████████████████████████████████████████████████████████████████▌                                                         | 4/7 [00:00<00:00, 166.04it/s]\u001b[A\n",
      "Validation DataLoader 0:  71%|███████████████████████████████████████████████████████████████████████████████████████████████▋                                      | 5/7 [00:00<00:00, 170.58it/s]\u001b[A\n",
      "Validation DataLoader 0:  86%|██████████████████████████████████████████████████████████████████████████████████████████████████████████████████▊                   | 6/7 [00:00<00:00, 173.81it/s]\u001b[A\n",
      "Validation DataLoader 0: 100%|██████████████████████████████████████████████████████████████████████████████████████████████████████████████████████████████████████| 7/7 [00:00<00:00, 177.16it/s]\u001b[A\n",
      "Epoch 9: 100%|███████████████████████████████████████████████████████████████████████████████████████████████████████████████████████████████████████████| 9/9 [00:00<00:00, 79.23it/s, v_num=2jlq]\u001b[A"
     ]
    },
    {
     "name": "stderr",
     "output_type": "stream",
     "text": [
      "`Trainer.fit` stopped: `max_epochs=10` reached.\n"
     ]
    },
    {
     "name": "stdout",
     "output_type": "stream",
     "text": [
      "Epoch 9: 100%|███████████████████████████████████████████████████████████████████████████████████████████████████████████████████████████████████████████| 9/9 [00:00<00:00, 70.88it/s, v_num=2jlq]\n"
     ]
    }
   ],
   "source": [
    "import wandb\n",
    "wandb.login(key='add-your-key-here')  # Add your WandB API key here\n",
    "\n",
    "contextualized_model = ContextualizedCorrelation(\n",
    "    context_dim=C_train.shape[1],\n",
    "    x_dim=X_train.shape[1],\n",
    "    encoder_type='mlp',\n",
    "    num_archetypes=50,\n",
    ")\n",
    "# Random val split\n",
    "C_val = train_test_split(C_train, test_size=0.2, random_state=42)[0]\n",
    "X_val = train_test_split(X_train, test_size=0.2, random_state=42)[0]\n",
    "datamodule = CorrelationDataModule(\n",
    "    C_train=C_train,\n",
    "    X_train=X_train,\n",
    "    C_val=C_val,\n",
    "    X_val=X_val,\n",
    "    C_test=C_test,\n",
    "    X_test=X_test,\n",
    "    C_predict=np.concatenate((C_train, C_test), axis=0),\n",
    "    X_predict=np.concatenate((X_train, X_test), axis=0),\n",
    "    batch_size=32,\n",
    ")\n",
    "checkpoint_callback = pl.pytorch.callbacks.ModelCheckpoint(\n",
    "    monitor='val_loss',\n",
    "    mode='min',\n",
    "    save_top_k=1,\n",
    "    filename='best_model',\n",
    ")\n",
    "logger = pl.pytorch.loggers.WandbLogger(\n",
    "    project='contextpert',\n",
    "    name='one_hot_context',\n",
    "    log_model=True,\n",
    "    save_dir='logs/',\n",
    ")\n",
    "trainer = Trainer(\n",
    "    max_epochs=10,\n",
    "    accelerator='auto',\n",
    "    devices='auto',\n",
    "    callbacks=[checkpoint_callback],\n",
    "    logger=logger,\n",
    ")\n",
    "trainer.fit(contextualized_model, datamodule=datamodule)"
   ]
  },
  {
   "cell_type": "code",
   "execution_count": 18,
   "id": "14",
   "metadata": {},
   "outputs": [
    {
     "name": "stderr",
     "output_type": "stream",
     "text": [
      "/mmfs1/gscratch/ark/jiaqi/miniconda3/envs/cml/lib/python3.10/site-packages/lightning/fabric/plugins/environments/slurm.py:204: The `srun` command is available on your system but is not used. HINT: If your intention is to run Lightning on SLURM, prepend your python command with `srun` like so: srun python /mmfs1/gscratch/ark/jiaqi/miniconda3/envs/cml/lib/py ...\n",
      "LOCAL_RANK: 0 - CUDA_VISIBLE_DEVICES: [0]\n",
      "/mmfs1/gscratch/ark/jiaqi/miniconda3/envs/cml/lib/python3.10/site-packages/lightning/pytorch/trainer/connectors/data_connector.py:476: Your `test_dataloader`'s sampler has shuffling enabled, it is strongly recommended that you turn shuffling off for val/test dataloaders.\n"
     ]
    },
    {
     "name": "stdout",
     "output_type": "stream",
     "text": [
      "Testing model on training data...\n",
      "Testing DataLoader 0: 100%|█████████████████████████████████████████████████████████████████████████████████████████████████████████████████████████████████████████| 9/9 [00:00<00:00, 194.52it/s]"
     ]
    },
    {
     "name": "stderr",
     "output_type": "stream",
     "text": [
      "LOCAL_RANK: 0 - CUDA_VISIBLE_DEVICES: [0]\n"
     ]
    },
    {
     "name": "stdout",
     "output_type": "stream",
     "text": [
      "\n",
      "────────────────────────────────────────────────────────────────────────────────────────────────────────────────────────\n",
      "       Test metric             DataLoader 0\n",
      "────────────────────────────────────────────────────────────────────────────────────────────────────────────────────────\n",
      "        test_loss           0.9771710634231567\n",
      "────────────────────────────────────────────────────────────────────────────────────────────────────────────────────────\n",
      "Testing model on test data...\n",
      "Testing DataLoader 0: 100%|█████████████████████████████████████████████████████████████████████████████████████████████████████████████████████████████████████████| 5/5 [00:00<00:00, 261.79it/s]\n",
      "────────────────────────────────────────────────────────────────────────────────────────────────────────────────────────\n",
      "       Test metric             DataLoader 0\n",
      "────────────────────────────────────────────────────────────────────────────────────────────────────────────────────────\n",
      "        test_loss           0.39830678701400757\n",
      "────────────────────────────────────────────────────────────────────────────────────────────────────────────────────────\n"
     ]
    },
    {
     "data": {
      "text/plain": [
       "[{'test_loss': 0.39830678701400757}]"
      ]
     },
     "execution_count": 18,
     "metadata": {},
     "output_type": "execute_result"
    }
   ],
   "source": [
    "print(f\"Testing model on training data...\")\n",
    "trainer.test(contextualized_model, datamodule.train_dataloader())\n",
    "print(f\"Testing model on test data...\")\n",
    "trainer.test(contextualized_model, datamodule.test_dataloader())"
   ]
  },
  {
   "cell_type": "code",
   "execution_count": 19,
   "id": "15",
   "metadata": {},
   "outputs": [
    {
     "name": "stdout",
     "output_type": "stream",
     "text": [
      "logs/contextpert/35f72jlq/checkpoints/best_model.ckpt\n"
     ]
    }
   ],
   "source": [
    "print(checkpoint_callback.best_model_path)"
   ]
  },
  {
   "cell_type": "markdown",
   "id": "16",
   "metadata": {},
   "source": [
    "## Predict Networks"
   ]
  },
  {
   "cell_type": "code",
   "execution_count": 20,
   "id": "17",
   "metadata": {},
   "outputs": [
    {
     "name": "stderr",
     "output_type": "stream",
     "text": [
      "GPU available: True (cuda), used: True\n",
      "TPU available: False, using: 0 TPU cores\n",
      "HPU available: False, using: 0 HPUs\n",
      "/mmfs1/gscratch/ark/jiaqi/miniconda3/envs/cml/lib/python3.10/site-packages/lightning/pytorch/trainer/connectors/logger_connector/logger_connector.py:76: Starting from v1.9.0, `tensorboardX` has been removed as a dependency of the `lightning.pytorch` package, due to potential conflicts with other packages in the ML ecosystem. For this reason, `logger=True` will use `CSVLogger` as the default logger, unless the `tensorboard` or `tensorboardX` packages are found. Please `pip install lightning[extra]` or one of them to enable TensorBoard support by default\n",
      "LOCAL_RANK: 0 - CUDA_VISIBLE_DEVICES: [0]\n"
     ]
    },
    {
     "name": "stdout",
     "output_type": "stream",
     "text": [
      "Predicting DataLoader 0: 100%|█████████████████████████████████████████████████████████████████████████████████████████████████████████████████████████████████████| 13/13 [00:00<00:00, 59.70it/s]\n"
     ]
    }
   ],
   "source": [
    "# Necessary to save predictions from multiple devices in parallel\n",
    "from contextualized.callbacks import PredictionWriter\n",
    "from pathlib import Path\n",
    "\n",
    "output_dir = Path(checkpoint_callback.best_model_path).parent / 'predictions'\n",
    "writer_callback = PredictionWriter(\n",
    "    output_dir=output_dir,\n",
    "    write_interval='batch',\n",
    ")\n",
    "trainer = Trainer(\n",
    "    accelerator='auto',\n",
    "    devices='auto',\n",
    "    callbacks=[checkpoint_callback, writer_callback],\n",
    ")\n",
    "_ = trainer.predict(contextualized_model, datamodule=datamodule)"
   ]
  },
  {
   "cell_type": "code",
   "execution_count": 21,
   "id": "18",
   "metadata": {},
   "outputs": [],
   "source": [
    "# Compile distributed predictions and put into order\n",
    "import torch\n",
    "import glob\n",
    "\n",
    "# Convert context to hashable type for lookup\n",
    "C_train_hashable = [tuple(row) for row in C_train]\n",
    "C_test_hashable = [tuple(row) for row in C_test]\n",
    "\n",
    "# Gather preds and move to CPU\n",
    "all_correlations = {}\n",
    "all_betas = {}\n",
    "all_mus = {}\n",
    "pred_files = glob.glob(str(output_dir / 'predictions_*.pt'))\n",
    "for file in pred_files:\n",
    "    preds = torch.load(file)\n",
    "    for context, correlation, beta, mu in zip(preds['contexts'], preds['correlations'], preds['betas'], preds['mus']):\n",
    "        context_tuple = tuple(context.tolist())\n",
    "        all_correlations[context_tuple] = correlation.cpu().numpy()\n",
    "        all_betas[context_tuple] = beta.cpu().numpy()\n",
    "        all_mus[context_tuple] = mu.cpu().numpy()\n",
    "\n",
    "# Remake preds in order of C_train and C_test\n",
    "correlations_train = np.array([all_correlations[c] for c in C_train_hashable])\n",
    "correlations_test = np.array([all_correlations[c] for c in C_test_hashable])\n",
    "betas_train = np.array([all_betas[c] for c in C_train_hashable])\n",
    "betas_test = np.array([all_betas[c] for c in C_test_hashable])\n",
    "mus_train = np.array([all_mus[c] for c in C_train_hashable])\n",
    "mus_test = np.array([all_mus[c] for c in C_test_hashable])"
   ]
  },
  {
   "cell_type": "code",
   "execution_count": 22,
   "id": "19",
   "metadata": {},
   "outputs": [
    {
     "name": "stdout",
     "output_type": "stream",
     "text": [
      "Train MSEs: 0.9771710609955975\n",
      "Test MSEs: 0.39830678965319255\n",
      "Per-cell MSE:\n",
      "Cell A375           :  train MSE =  0.9772   test MSE =  0.3983   (n=270/134)\n"
     ]
    }
   ],
   "source": [
    "# Get individual MSEs by sample\n",
    "# Sanity check: These should closely match the trainer.test() outputs from earlier\n",
    "def measure_mses(betas, mus, X):\n",
    "    mses = np.zeros(len(X))\n",
    "    for i in range(len(X)):\n",
    "        sample_mse = 0\n",
    "        for j in range(X.shape[-1]):\n",
    "            for k in range(X.shape[-1]):\n",
    "                residual = X[i, j] - betas[i, j, k] * X[i, k] - mus[i, j, k]\n",
    "                sample_mse += residual**2 / (X.shape[-1] ** 2)\n",
    "        mses += sample_mse / len(X)\n",
    "    return mses\n",
    "\n",
    "mse_train = measure_mses(betas_train, mus_train, X_train)\n",
    "mse_test = measure_mses(betas_test, mus_test, X_test)\n",
    "print(f\"Train MSEs: {mse_train.mean()}\")\n",
    "print(f\"Test MSEs: {mse_test.mean()}\")\n",
    "\n",
    "# Iterate over the unique cells that were included in the splits for per-cell MSE\n",
    "print(\"Per-cell MSE:\")\n",
    "for cell_id in unique_cells:\n",
    "    tr_mask = cell_ids_train == cell_id\n",
    "    te_mask = cell_ids_test == cell_id\n",
    "\n",
    "    if tr_mask.sum() == 0 and te_mask.sum() == 0:\n",
    "        continue\n",
    "\n",
    "    tr_mse = mse_train[tr_mask].mean() if tr_mask.any() else np.nan\n",
    "    te_mse = mse_test[te_mask].mean() if te_mask.any() else np.nan\n",
    "    print(f'Cell {cell_id:<15}:  train MSE = {tr_mse:7.4f}   '\n",
    "          f'test MSE = {te_mse:7.4f}   (n={tr_mask.sum():3d}/{te_mask.sum():3d})')"
   ]
  }
 ],
 "metadata": {
  "kernelspec": {
   "display_name": "Python 3 (ipykernel)",
   "language": "python",
   "name": "python3"
  },
  "language_info": {
   "codemirror_mode": {
    "name": "ipython",
    "version": 3
   },
   "file_extension": ".py",
   "mimetype": "text/x-python",
   "name": "python",
   "nbconvert_exporter": "python",
   "pygments_lexer": "ipython3",
   "version": "3.10.18"
  }
 },
 "nbformat": 4,
 "nbformat_minor": 5
}
